{
 "cells": [
  {
   "cell_type": "markdown",
   "id": "4d6ad473-fcd2-46b0-bf65-3073b9daa04a",
   "metadata": {},
   "source": [
    "# Project Final Report"
   ]
  },
  {
   "cell_type": "markdown",
   "id": "772e7981-7540-4cae-8af2-2ff9f2a1f9a3",
   "metadata": {},
   "source": [
    "## Introduction\n",
    "\n",
    "### Relevant Background Information\n",
    "A research group in Computer Science at UBC is collecting data about how people play video games. They set up a Minecraft Server and recorded players actions.\n",
    "\n",
    "### Question that we are trying to answer\n",
    "The question that our group is answer is which \"kinds\" of players are most likely to contribute a large amount of data so that the reserach group can target those players in their recruiting efforts.\n",
    "- This data set contains data about PlaiCraft, containing data about the information the player used to sign up and each individual session of plaicraft that occured.\n",
    "\n",
    "### Describing the dataset\n",
    "#### Players CSV\n",
    "This file contains data about the players/users sign-up information from plaicraft\n",
    "- 197 observations\n",
    "- 9 variables \n",
    "\n",
    "#### Variables\n",
    "| Experience (character) | Subscribe (logical) | hashedEmail (character) | played_hours (double precision) | name (character) | gender (character) | age (double precision) | individualid (logical) | organizationName (logical) |\n",
    "| ---------- | --------- | ----------- | ------------ | ---- | ------ | --- | ------------ | ---------------- |\n",
    "| How familiar the player is with minecraft | Whether player has subscribed to PlaiCraft's email updates| Encrypted email address of the player | How many hours the player has spent playing PlaiCraft | Name of the player | Gender of the player | Age of the player | ID of the player | Organization that the player belongs to|\n",
    "\n",
    "#### Sessions CSV\n",
    "\n",
    "This file contains data about each individual session in plaicraft. \n",
    "- 1536 observations\n",
    "- 5 variables\n",
    "\n",
    "#### Variables\n",
    "| hashedEmail (character) | start_time (character) | end_time (character) | original_start_time (double precision) | original_end_time (double precision) |\n",
    "| ----------- | ---------- | -------- | ------------------- | ----------------- |\n",
    "| Encrypted email adress of the player | Time and date when player started a session | Time and date when player ended a session | Start time in Unix Timestamp Format | End Time in Unix Timestamp Format |"
   ]
  },
  {
   "cell_type": "markdown",
   "id": "c75a640b-9183-4334-bffe-e873263244c8",
   "metadata": {},
   "source": [
    "## Methods & Results"
   ]
  },
  {
   "cell_type": "markdown",
   "id": "9079ecfd-fb10-4ce7-ba2e-3c18c99e8c6e",
   "metadata": {},
   "source": [
    "## Discussion"
   ]
  },
  {
   "cell_type": "code",
   "execution_count": null,
   "id": "702bfe60-1355-4cd6-9b0e-7b37b94044d3",
   "metadata": {},
   "outputs": [],
   "source": []
  }
 ],
 "metadata": {
  "kernelspec": {
   "display_name": "R",
   "language": "R",
   "name": "ir"
  },
  "language_info": {
   "codemirror_mode": "r",
   "file_extension": ".r",
   "mimetype": "text/x-r-source",
   "name": "R",
   "pygments_lexer": "r",
   "version": "4.3.3"
  }
 },
 "nbformat": 4,
 "nbformat_minor": 5
}
