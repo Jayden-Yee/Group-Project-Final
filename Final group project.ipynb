{
 "cells": [
  {
   "cell_type": "markdown",
   "id": "4d6ad473-fcd2-46b0-bf65-3073b9daa04a",
   "metadata": {},
   "source": [
    "The start"
   ]
  }
 ],
 "metadata": {
  "kernelspec": {
   "display_name": "R",
   "language": "R",
   "name": "ir"
  },
  "language_info": {
   "codemirror_mode": "r",
   "file_extension": ".r",
   "mimetype": "text/x-r-source",
   "name": "R",
   "pygments_lexer": "r",
   "version": "4.3.3"
  }
 },
 "nbformat": 4,
 "nbformat_minor": 5
}
