{
 "cells": [
  {
   "cell_type": "markdown",
   "id": "4d6ad473-fcd2-46b0-bf65-3073b9daa04a",
   "metadata": {},
   "source": [
    "# Project Final Report"
   ]
  },
  {
   "cell_type": "markdown",
   "id": "772e7981-7540-4cae-8af2-2ff9f2a1f9a3",
   "metadata": {},
   "source": [
    "## Introduction"
   ]
  },
  {
   "cell_type": "markdown",
   "id": "c75a640b-9183-4334-bffe-e873263244c8",
   "metadata": {},
   "source": [
    "## Methods & Results"
   ]
  },
  {
   "cell_type": "markdown",
   "id": "9079ecfd-fb10-4ce7-ba2e-3c18c99e8c6e",
   "metadata": {},
   "source": [
    "## Discussion"
   ]
  },
  {
   "cell_type": "code",
   "execution_count": null,
   "id": "702bfe60-1355-4cd6-9b0e-7b37b94044d3",
   "metadata": {},
   "outputs": [],
   "source": []
  }
 ],
 "metadata": {
  "kernelspec": {
   "display_name": "R",
   "language": "R",
   "name": "ir"
  },
  "language_info": {
   "codemirror_mode": "r",
   "file_extension": ".r",
   "mimetype": "text/x-r-source",
   "name": "R",
   "pygments_lexer": "r",
   "version": "4.3.3"
  }
 },
 "nbformat": 4,
 "nbformat_minor": 5
}
